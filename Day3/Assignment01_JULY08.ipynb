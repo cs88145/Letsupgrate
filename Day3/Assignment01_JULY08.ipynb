{
 "cells": [
  {
   "cell_type": "markdown",
   "metadata": {
    "colab": {
     "base_uri": "https://localhost:8080/",
     "height": 34
    },
    "colab_type": "code",
    "id": "zjJjaDC5ojQC",
    "outputId": "67117681-8474-4558-a0fb-6bfae27c8938"
   },
   "source": [
    "#Write a program to subtract two complex numbers in Python.\n",
    "import cmath\n",
    "a= complex(2,3)\n",
    "b= complex(1,1)\n",
    "c=a-b\n",
    "print(c)\n",
    "\n"
   ]
  },
  {
   "cell_type": "code",
   "execution_count": 2,
   "metadata": {},
   "outputs": [
    {
     "name": "stdout",
     "output_type": "stream",
     "text": [
      "(1+2j)\n"
     ]
    }
   ],
   "source": [
    "#Write a program to subtract two complex numbers in Python. \n",
    "import cmath \n",
    "a= complex(2,3) \n",
    "b= complex(1,1) \n",
    "c=a-b \n",
    "print(c)"
   ]
  },
  {
   "cell_type": "markdown",
   "metadata": {},
   "source": [
    "#Create a Markdown cell in jupyter and list the steps discussed in the session by Dr. Darshan\n",
    "#Ingle sir to create Github profile and upload Githubs Assignment link.\n",
    "\n",
    "a) login to github and create a account\n",
    "b) click on New and create Repo/folder with Name Letsupgrade AI-ML\n",
    "c) Get into folder Letsupgrade AI-ML and give description as Assignments\n",
    "d) choose option as public\n",
    "e) Click \"Create Repository\" and name folder \n",
    "f) click on uploading file in link and drag drop folder in which you saved your work\n"
   ]
  },
  {
   "cell_type": "code",
   "execution_count": 4,
   "metadata": {
    "colab": {
     "base_uri": "https://localhost:8080/",
     "height": 34
    },
    "colab_type": "code",
    "id": "Itos7tAVqDco",
    "outputId": "3bc19086-e6cb-4539-f0f6-80541b79bdda"
   },
   "outputs": [
    {
     "name": "stdout",
     "output_type": "stream",
     "text": [
      "2.0\n"
     ]
    }
   ],
   "source": [
    "import math  \n",
    "  \n",
    " #Write a program to find the fourth root of a number\n",
    "print(math.sqrt(math.sqrt(16)))\n",
    "\n"
   ]
  },
  {
   "cell_type": "code",
   "execution_count": 7,
   "metadata": {
    "colab": {
     "base_uri": "https://localhost:8080/",
     "height": 50
    },
    "colab_type": "code",
    "id": "_XjVR6TEq8MZ",
    "outputId": "7fab6286-ecc1-46b6-e62a-2c7c3cd0763d"
   },
   "outputs": [
    {
     "name": "stdout",
     "output_type": "stream",
     "text": [
      "Before :: a,b 2 3\n",
      "After :: a,b 3 2\n"
     ]
    }
   ],
   "source": [
    "#Write a program to swap two numbers in Python with the help of a temporary variable\n",
    "a,b= 2,3\n",
    "print(\"Before :: a,b\",a,b)\n",
    "c=a\n",
    "a=b\n",
    "b=c\n",
    "\n",
    "\n",
    "print(\"After :: a,b\",a,b)\n",
    "      "
   ]
  },
  {
   "cell_type": "code",
   "execution_count": 8,
   "metadata": {
    "colab": {
     "base_uri": "https://localhost:8080/",
     "height": 34
    },
    "colab_type": "code",
    "id": "NUoPvJNqsrZY",
    "outputId": "247b2b65-da4a-4dcc-c3f4-940e2d3dbabb"
   },
   "outputs": [
    {
     "name": "stdout",
     "output_type": "stream",
     "text": [
      "After Swapping: x = 5  y = 10\n"
     ]
    }
   ],
   "source": [
    "#Write a program to swap two numbers in Python without using a temporary variable\n",
    "x = 10\n",
    "y = 5\n",
    "\n",
    "x = x + y \n",
    "y = x - y \n",
    "x = x - y \n",
    "print(\"After Swapping: x =\", x, \" y =\", y)\n",
    "\n"
   ]
  },
  {
   "cell_type": "code",
   "execution_count": 26,
   "metadata": {
    "colab": {
     "base_uri": "https://localhost:8080/",
     "height": 50
    },
    "colab_type": "code",
    "id": "2kH6ZCDotq3p",
    "outputId": "d60223cc-d4cf-4394-92b4-3b5494e4c6ee"
   },
   "outputs": [
    {
     "name": "stdout",
     "output_type": "stream",
     "text": [
      "45  in Fahrenheit to celcuis:  7.222222222222222\n",
      "45  in Fahrenheit to kelvin:  280.3722222222222\n"
     ]
    }
   ],
   "source": [
    "#Write a program to convert fahrenheit to kelvin and celsius both.\n",
    "x=45\n",
    "a=float(float(float(x)-32)*int(\"5\"))/int(\"9\")\n",
    "print(x,\" in Fahrenheit to celcuis: \",a) \n",
    "formula= float(a)+ float(\"273.15\")\n",
    "print(x,\" in Fahrenheit to kelvin: \",formula) \n",
    "\n",
    "\n"
   ]
  },
  {
   "cell_type": "code",
   "execution_count": 30,
   "metadata": {
    "colab": {
     "base_uri": "https://localhost:8080/",
     "height": 101
    },
    "colab_type": "code",
    "id": "jBPDg96b5Y9Y",
    "outputId": "e7bf221b-f42d-4af0-cfd0-4a18970b44f3"
   },
   "outputs": [
    {
     "name": "stdout",
     "output_type": "stream",
     "text": [
      "<class 'int'>\n",
      "<class 'float'>\n",
      "<class 'int'>\n",
      "<class 'complex'>\n",
      "<class 'str'>\n"
     ]
    }
   ],
   "source": [
    "a= 12\n",
    "b= 23.0\n",
    "c=98585854754457\n",
    "d= 3+45j\n",
    "e= \"Letsupgrade\"\n",
    "print(type(a))\n",
    "print(type(b))\n",
    "print(type(c))\n",
    "print(type(d))\n",
    "print(type(e))\n",
    "\n",
    "\n"
   ]
  }
 ],
 "metadata": {
  "colab": {
   "collapsed_sections": [],
   "name": "Assignment01_JULY08.ipynb",
   "provenance": []
  },
  "kernelspec": {
   "display_name": "Python 3",
   "language": "python",
   "name": "python3"
  },
  "language_info": {
   "codemirror_mode": {
    "name": "ipython",
    "version": 3
   },
   "file_extension": ".py",
   "mimetype": "text/x-python",
   "name": "python",
   "nbconvert_exporter": "python",
   "pygments_lexer": "ipython3",
   "version": "3.7.6"
  }
 },
 "nbformat": 4,
 "nbformat_minor": 1
}
