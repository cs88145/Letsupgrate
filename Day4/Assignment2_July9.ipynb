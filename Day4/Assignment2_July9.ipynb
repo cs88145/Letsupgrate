{
  "nbformat": 4,
  "nbformat_minor": 0,
  "metadata": {
    "colab": {
      "name": "Assignment2_July9.ipynb",
      "provenance": [],
      "collapsed_sections": []
    },
    "kernelspec": {
      "name": "python3",
      "display_name": "Python 3"
    }
  },
  "cells": [
    {
      "cell_type": "code",
      "metadata": {
        "id": "QUgjJv4oBGbA",
        "colab_type": "code",
        "colab": {}
      },
      "source": [
        ""
      ],
      "execution_count": null,
      "outputs": []
    },
    {
      "cell_type": "markdown",
      "metadata": {
        "id": "AjevwMh2BNHr",
        "colab_type": "text"
      },
      "source": [
        ""
      ]
    },
    {
      "cell_type": "code",
      "metadata": {
        "id": "jcvCCTLvBNf-",
        "colab_type": "code",
        "colab": {
          "base_uri": "https://localhost:8080/",
          "height": 84
        },
        "outputId": "42984262-960f-4eb2-fa7f-b0d9df9717f6"
      },
      "source": [
        "#Research on whether addition, subtraction, multiplication, division, floor division and modulo\n",
        "#operations be performed on complex numbers. Based on your study, implement a Python\n",
        "# program to demonstrate these operations.\n",
        "\n",
        "import cmath\n",
        "a= complex(1,2)\n",
        "b= complex(2,2)\n",
        "c= a+b\n",
        "print(c)\n",
        "d=a-b\n",
        "print(d)\n",
        "#division\n",
        "e=a/b\n",
        "print(e)\n",
        "#multiplication \n",
        "#(a+bi)(c+di)=(ac−bd)+(ad+bc)i\n",
        "f= a*b\n",
        "print(f)\n",
        "\n"
      ],
      "execution_count": 4,
      "outputs": [
        {
          "output_type": "stream",
          "text": [
            "(3+4j)\n",
            "(-1+0j)\n",
            "(0.75+0.25j)\n",
            "(-2+6j)\n"
          ],
          "name": "stdout"
        }
      ]
    },
    {
      "cell_type": "code",
      "metadata": {
        "id": "ggiNoxToDX5G",
        "colab_type": "code",
        "colab": {
          "base_uri": "https://localhost:8080/",
          "height": 235
        },
        "outputId": "800ad717-22ac-4858-f6a7-f760d956aa5d"
      },
      "source": [
        "# The range() function returns a sequence of numbers, starting from 0 by default, and increments by 1 (by default), and stops before a specified number.\n",
        "# Syntax\n",
        "#####range(start, stop, step)\n",
        "# Parameter Values\n",
        "# Parameter\tDescription\n",
        "# start\tOptional. An integer number specifying at which position to start. Default is 0\n",
        "# stop\tRequired. An integer number specifying at which position to stop (not included).\n",
        "# step\tOptional. An integer number specifying the incrementation. Default is 1\n",
        "\n",
        "for i in range(6):\n",
        "  print(i)\n",
        "print(\"--------------\")\n",
        "for i in range(2,6,2):#starts at 2 and incremets by 2, ends at 5\n",
        "  print(i)\n",
        "print(\"--------------\")\n",
        "for i in range(0,10,4):\n",
        "  print(i)  \n",
        "\n"
      ],
      "execution_count": 10,
      "outputs": [
        {
          "output_type": "stream",
          "text": [
            "0\n",
            "1\n",
            "2\n",
            "3\n",
            "4\n",
            "5\n",
            "--------------\n",
            "2\n",
            "4\n",
            "--------------\n",
            "0\n",
            "4\n",
            "8\n"
          ],
          "name": "stdout"
        }
      ]
    },
    {
      "cell_type": "code",
      "metadata": {
        "id": "_H3uaB0PFObF",
        "colab_type": "code",
        "colab": {
          "base_uri": "https://localhost:8080/",
          "height": 50
        },
        "outputId": "2021501a-6d2a-4198-a096-38e2988b69d9"
      },
      "source": [
        "# Consider two numbers. Perform their subtraction and if the result of subtraction is greater than\n",
        "# 25, print their multiplication result else print their division result.\n",
        "a=75\n",
        "b=12\n",
        "c= a-b\n",
        "if c > 25:\n",
        "  print(\"a*b\",a*b)\n",
        "else:\n",
        "  print(\"a dividion b\",a/b)\n",
        "a=25\n",
        "b=12\n",
        "c= a-b\n",
        "if c > 25:\n",
        "  print(\"a*b\",a*b)\n",
        "else:\n",
        "  print(\"a dividion b\",a/b)\n",
        "\n"
      ],
      "execution_count": 11,
      "outputs": [
        {
          "output_type": "stream",
          "text": [
            "a*b 900\n",
            "a dividion b 2.0833333333333335\n"
          ],
          "name": "stdout"
        }
      ]
    },
    {
      "cell_type": "code",
      "metadata": {
        "id": "jAP7HYIaFOeB",
        "colab_type": "code",
        "colab": {
          "base_uri": "https://localhost:8080/",
          "height": 134
        },
        "outputId": "b4c89a91-9fb1-4224-aa41-4f7f746c0477"
      },
      "source": [
        "# Consider a list of 10 elements of integer values. If the number in the list is divisible by 2, print the\n",
        "# result as \"square of that number minus 2\".\n",
        "\n",
        "\n",
        "vlist=[]\n",
        "\n",
        "for i in range(1,30,3):\n",
        "  vlist.append(i)\n",
        "print(vlist)\n",
        "print(\"length of vlist \",len(vlist))\n",
        "\n",
        "for j in vlist:\n",
        "  if j%2 == 0:\n",
        "    print(j**2-2)\n",
        "    # print(h)\n",
        "\n",
        "\n"
      ],
      "execution_count": 21,
      "outputs": [
        {
          "output_type": "stream",
          "text": [
            "[1, 4, 7, 10, 13, 16, 19, 22, 25, 28]\n",
            "length of vlist  10\n",
            "14\n",
            "98\n",
            "254\n",
            "482\n",
            "782\n"
          ],
          "name": "stdout"
        }
      ]
    },
    {
      "cell_type": "code",
      "metadata": {
        "id": "9PshFiHyFOg_",
        "colab_type": "code",
        "colab": {
          "base_uri": "https://localhost:8080/",
          "height": 118
        },
        "outputId": "b4d79abc-4333-46b5-84b4-b8061d377d79"
      },
      "source": [
        "# Consider a list of 10 elements. Print all the elements in the list which are greater than 7 when that\n",
        "# number is divided 2.\n",
        "\n",
        "vlist=[]\n",
        "\n",
        "for i in range(1,30,3):\n",
        "  vlist.append(i)\n",
        "print(vlist)\n",
        "print(\"length of vlist \",len(vlist))\n",
        "\n",
        "for j in vlist:\n",
        "  if j>7 and j%2 ==0:\n",
        "    print(j)\n",
        "    # print(h)\n"
      ],
      "execution_count": 23,
      "outputs": [
        {
          "output_type": "stream",
          "text": [
            "[1, 4, 7, 10, 13, 16, 19, 22, 25, 28]\n",
            "length of vlist  10\n",
            "10\n",
            "16\n",
            "22\n",
            "28\n"
          ],
          "name": "stdout"
        }
      ]
    },
    {
      "cell_type": "code",
      "metadata": {
        "id": "Un8151HBFOlL",
        "colab_type": "code",
        "colab": {}
      },
      "source": [
        ""
      ],
      "execution_count": null,
      "outputs": []
    }
  ]
}